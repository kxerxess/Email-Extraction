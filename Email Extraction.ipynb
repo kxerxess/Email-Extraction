{
 "cells": [
  {
   "cell_type": "markdown",
   "metadata": {},
   "source": [
    "# Email Extraction using Pyhton"
   ]
  },
  {
   "cell_type": "raw",
   "metadata": {},
   "source": [
    "This is the solution for Problem Statement 9 of the internship application for BytesCare.\n",
    "\n",
    "Problem Statement 9\n",
    "\n",
    "Write a program to read and search a given (your) email (with email and password provided to the program) for 5 recent congratulations emails you received.\n",
    "Input: Email Username, Password, Email: Configuration (Can hardcode in the program)\n",
    "Output: Subject of 5 Mails\n",
    "Partial Acceptable Solution: Get last five emails\n",
    "Complete solution: Get the last five emails containing words similar or equivalent to \"congratulation.\"\n",
    "Note: You can remove your email and password before submitting and instruct us in the text file to let us put our own email/password to test your code."
   ]
  },
  {
   "cell_type": "raw",
   "metadata": {},
   "source": [
    "Solution:\n",
    "    \n",
    "I used the imaplib and email modules of python to establish a connection and login to the mail with the provided user details.\n",
    "Then I iterated over all mails present in the 'Inbox' section of the user.\n",
    "I extracted the subject, details of sender and contents of the mail.\n",
    "I checked if the subject or mail content include the words given in the checkWords list. (Congrat and congrat by default)\n",
    "If the words were found, the subject of this mail was returned.\n",
    "As soon as 5 mails sujects were returned the loop was exited and the subjects of these mails were displayed."
   ]
  },
  {
   "cell_type": "markdown",
   "metadata": {},
   "source": [
    "### NOTE: Before using your email here, make sure that you have IMAP enabled for your account and allow access to less secure apps.\n",
    "### NOTE: This code will keep scanning for the keywords mentioned until it finds 5 mails. So make sure that your account has at least 5 recent mails that contain these keywords otherwise scanning all mails will be a legthy process."
   ]
  },
  {
   "cell_type": "markdown",
   "metadata": {},
   "source": [
    "#### Exectute all blocks sequentially. DO NOT skip any block."
   ]
  },
  {
   "cell_type": "code",
   "execution_count": null,
   "metadata": {},
   "outputs": [],
   "source": [
    "import imaplib, email\n",
    "from email.header import decode_header\n",
    "from bs4 import BeautifulSoup"
   ]
  },
  {
   "cell_type": "code",
   "execution_count": null,
   "metadata": {},
   "outputs": [],
   "source": [
    "username = 'enter_email_here'       # enter the email you want to use here. Example: xyz@gmail.com\n",
    "password = 'enter_password_here'    # enter the password for this email here\n",
    "imap_url = 'imap.gmail.com' # enter the IMAP for your mailing service here. Do not change if you are using Gmail.\n",
    "words = ['Congrat', 'congrat'] # enter keywords to search here. Default is congrat for congratulatory emails."
   ]
  },
  {
   "cell_type": "code",
   "execution_count": null,
   "metadata": {},
   "outputs": [],
   "source": [
    "con = imaplib.IMAP4_SSL(imap_url)"
   ]
  },
  {
   "cell_type": "code",
   "execution_count": null,
   "metadata": {},
   "outputs": [],
   "source": [
    "con.login(username,password)"
   ]
  },
  {
   "cell_type": "code",
   "execution_count": null,
   "metadata": {},
   "outputs": [],
   "source": [
    "con.list()"
   ]
  },
  {
   "cell_type": "code",
   "execution_count": null,
   "metadata": {},
   "outputs": [],
   "source": [
    "status, messages = con.select('Inbox')\n",
    "print(status)"
   ]
  },
  {
   "cell_type": "code",
   "execution_count": null,
   "metadata": {},
   "outputs": [],
   "source": [
    "messageCount = int(messages[0])\n",
    "print(messageCount)"
   ]
  },
  {
   "cell_type": "code",
   "execution_count": null,
   "metadata": {},
   "outputs": [],
   "source": [
    "def getResult(msg, wordList):\n",
    "    mailContent= []\n",
    "    checkWords = wordList\n",
    "    for response in msg:\n",
    "        if isinstance(response, tuple):\n",
    "            mess = email.message_from_bytes(response[1])\n",
    "            subject = decode_header(mess[\"Subject\"])[0][0]\n",
    "            from_ = mess.get('From')\n",
    "            if mess.is_multipart():\n",
    "                for part in mess.walk():\n",
    "                    content_type = part.get_content_type()\n",
    "                    try:\n",
    "                        body = part.get_payload(decode=True).decode()\n",
    "                    except:\n",
    "                        pass\n",
    "                    if content_type == 'text/plain' :\n",
    "                        mailContent.append(body)\n",
    "                    elif content_type == 'text/html' :\n",
    "                        soup = BeautifulSoup(body, 'html.parser')\n",
    "                        htmltext = soup.find_all(text=True)\n",
    "                        mailContent.append(' '.join(htmltext))\n",
    "            else:\n",
    "                content_type = mess.get_content_type()\n",
    "                try:\n",
    "                    body = mess.get_payload(decode=True).decode()\n",
    "                except:\n",
    "                    pass\n",
    "                if content_type == 'text/plain' :\n",
    "                    mailContent.append(body)\n",
    "                elif content_type == 'text/html' :\n",
    "                    soup = BeautifulSoup(body, 'html.parser')\n",
    "                    htmltext = soup.find_all(text=True)\n",
    "                    mailContent.append(' '.join(htmltext))\n",
    "            \n",
    "    for i in checkWords:\n",
    "        if (i in subject) or (i in ''.join(mailContent)):\n",
    "            return subject\n",
    "            break"
   ]
  },
  {
   "cell_type": "code",
   "execution_count": null,
   "metadata": {},
   "outputs": [],
   "source": [
    "firstFive = []\n",
    "for i in range(messageCount,-1,-1):\n",
    "    res, msg = con.fetch(str(i), \"(RFC822)\")\n",
    "    try:\n",
    "        sub = getResult(msg, words)\n",
    "        if sub :\n",
    "            firstFive.append(sub)\n",
    "    except:\n",
    "        pass\n",
    "    if len(firstFive) >= 5:\n",
    "        break"
   ]
  },
  {
   "cell_type": "code",
   "execution_count": null,
   "metadata": {},
   "outputs": [],
   "source": [
    "print(\"Subjects of the mails: \\n\")\n",
    "print(*firstFive, sep = \"\\n\") "
   ]
  },
  {
   "cell_type": "code",
   "execution_count": null,
   "metadata": {},
   "outputs": [],
   "source": []
  }
 ],
 "metadata": {
  "kernelspec": {
   "display_name": "Python 3",
   "language": "python",
   "name": "python3"
  },
  "language_info": {
   "codemirror_mode": {
    "name": "ipython",
    "version": 3
   },
   "file_extension": ".py",
   "mimetype": "text/x-python",
   "name": "python",
   "nbconvert_exporter": "python",
   "pygments_lexer": "ipython3",
   "version": "3.7.4"
  }
 },
 "nbformat": 4,
 "nbformat_minor": 2
}
